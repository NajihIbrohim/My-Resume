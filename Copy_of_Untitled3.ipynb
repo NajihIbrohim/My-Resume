{
  "nbformat": 4,
  "nbformat_minor": 0,
  "metadata": {
    "colab": {
      "provenance": [],
      "authorship_tag": "ABX9TyP6w8c5r1FgHMP+eXqqI4xh",
      "include_colab_link": true
    },
    "kernelspec": {
      "name": "python3",
      "display_name": "Python 3"
    },
    "language_info": {
      "name": "python"
    }
  },
  "cells": [
    {
      "cell_type": "markdown",
      "metadata": {
        "id": "view-in-github",
        "colab_type": "text"
      },
      "source": [
        "<a href=\"https://colab.research.google.com/github/NajihIbrohim/My-Resume/blob/main/Copy_of_Untitled3.ipynb\" target=\"_parent\"><img src=\"https://colab.research.google.com/assets/colab-badge.svg\" alt=\"Open In Colab\"/></a>"
      ]
    },
    {
      "cell_type": "code",
      "source": [
        "# Membuat class Mahasiswa\n",
        "class Mahasiswa:\n",
        "    # atribut\n",
        "    def __init__(self, nama, nim):\n",
        "        self.nama = nama\n",
        "        self.nim = nim\n",
        "\n",
        "     # method\n",
        "    def belajar(self):\n",
        "        print(f\"{self.nama} sedang belajar.\")\n",
        "\n",
        "    def tampilkan_data(self):\n",
        "        print(f\"Nama: {self.nama}, NIM: {self.nim}\")\n",
        "\n",
        "#Membuat object dari class\n",
        "mhs1 = Mahasiswa (\"Andi\", \"12345\")\n",
        "mhs2 = Mahasiswa (\"Budi\", \"67890\")\n",
        "\n",
        "#memanggil method\n",
        "mhs1.belajar()\n",
        "mhs2.tampilkan_data()\n"
      ],
      "metadata": {
        "colab": {
          "base_uri": "https://localhost:8080/"
        },
        "id": "qwEAGmmRdFZh",
        "outputId": "fa4975c2-012c-41ee-fbdb-bf95955d00b6"
      },
      "execution_count": null,
      "outputs": [
        {
          "output_type": "stream",
          "name": "stdout",
          "text": [
            "Andi sedang belajar.\n",
            "Nama: Budi, NIM: 67890\n"
          ]
        }
      ]
    },
    {
      "cell_type": "code",
      "source": [
        "class Mobil:\n",
        "  def __init__(self, merek,warna):\n",
        "    self.merek = merek\n",
        "    self.warna = warna\n",
        "\n",
        "  def jalan(self):\n",
        "    print(f\"{self.merek} berwarna {self.warna} sedang berjalan...\")\n",
        "\n",
        "m1 = Mobil(\"Toyota\", \"Merah\")\n",
        "m1.jalan()\n",
        "# Output : Toyota berwarna merah sedang berjalan..."
      ],
      "metadata": {
        "colab": {
          "base_uri": "https://localhost:8080/"
        },
        "id": "zRpFy5tffmm5",
        "outputId": "1e3d2906-1db9-47c8-be84-9eb0b1291342"
      },
      "execution_count": null,
      "outputs": [
        {
          "output_type": "stream",
          "name": "stdout",
          "text": [
            "Toyota berwarna Merah sedang berjalan...\n"
          ]
        }
      ]
    },
    {
      "cell_type": "code",
      "source": [
        "class Hewan:\n",
        "  def __init__(self, nama, jenis):\n",
        "    self.nama = nama\n",
        "    self.jenis = jenis\n",
        "\n",
        "  def suara(self, bunyi):\n",
        "    print(f\"{self.nama} bersuara: {bunyi}\")\n",
        "\n",
        "kucing = Hewan(\"Mimi\", \"Kucing\")\n",
        "kucing.suara(\"Meong\")"
      ],
      "metadata": {
        "colab": {
          "base_uri": "https://localhost:8080/"
        },
        "id": "gR_FtNScl_zn",
        "outputId": "51838391-5855-4b46-c975-cada3f5234f2"
      },
      "execution_count": null,
      "outputs": [
        {
          "output_type": "stream",
          "name": "stdout",
          "text": [
            "Mimi bersuara: Meong\n"
          ]
        }
      ]
    },
    {
      "cell_type": "code",
      "source": [
        "from __future__ import annotations\n",
        "from typing import List\n",
        "\n",
        "class buku:\n",
        "  def __init__(self, judul: str, penulis: str, tahun: int, status: str = \"Tersedia\"):\n",
        "    self.judul = judul\n",
        "    self.penulis = penulis\n",
        "    self.tahun = tahun\n",
        "    self.status = status #\"Tersedia\" atau \"Dipinjam\"\n",
        "\n",
        "def tampilkan_info(self) -> str:\n",
        "  return f\"{self.judul} (oleh {self.penulis}, {self.tahun}) - Status: {self.status}\"\n",
        "\n",
        "def pinjam(self) -> bool:\n",
        "  if self.status == \"Tersedia\":\n",
        "     self.status = \"Dipinjam\"\n",
        "     return True\n",
        "     return False\n",
        "\n",
        "def kembalikan(self) -> bool:\n",
        "  if self.status == \"Dipinjam\":\n",
        "    self.status = \"Tersedia\"\n",
        "    return True\n",
        "    return False\n",
        "\n",
        "def __repr__(self) -> str:\n",
        "  return f\"Buku(judul={self.judul!r}, penulis={self.penulis!r}, tahun={self.tahun!r}, status={self.status!r})\"\n",
        "\n",
        "class Anggota:\n",
        "  def __init__(self, nama: str, nim: str):\n",
        "    self.nama = nama\n",
        "    self.nim = nim\n",
        "    self.daftar_pinjam: List[Buku] = []\n",
        "\n",
        "def pinjam_buku(self, buku: Buku) -> str:\n",
        " \"\"\"Menambahkan buku ke daftar pinjam jiak tersedia.\"\"\"\n",
        " if buku in self.daftar_pinjam:\n",
        "   return f\"{self.nama} sudah meminjam buku '{buku.judul}'.\"\n",
        " if buku.pinjam():\n",
        "   self.daftar_pinjam.append(buku)\n",
        "   return f\"Buku '{buku.judul}' berhasil dipinjam oleh '{buku.judul}'.\"\n",
        " else:\n",
        "   return f\"Buku '{buku.judul}' saat ini tidak tersedia.\"\n",
        "\n",
        "def kembalikan_buku(self, buku: Buku) -> str:\n",
        " \"\"\"Menghapus buku dari daftar pinjam dan menubah status buku menjadi 'Tersedia'.\"\"\"\n",
        " if buku not in self.daftar_pinjam:\n",
        "   return f\"{self.nama} tidak meminjam buku '{buku.judul}'.\"\n",
        " if buku.kembalikan():\n",
        "   self.daftar_pinjam.remove(buku)\n",
        "   return f\"Buku '{buku.judul}' telah dikembalikan oleh '{self.nama}'.\"\n",
        " else:\n",
        "   # secara logika jarang terjadi: buku ada di daftar pinjam tapi status bukan 'Dipinjam'\n",
        "   return f\"Terjadi inkonsistensi status pada buku '{buku.judul}'.\"\n",
        "\n",
        "def tampilkan_pinjaman(self) -> str:\n",
        " if not self.daftar_pinjam:\n",
        "   return \"(tidak ada buku yang dipinjam)\"\n",
        "\n",
        "   lines = []\n",
        "   for b in self.daftar_pinjam:\n",
        "     lines.append(f\"- {b.judul} (oleh {b.penulis}, {b.tahun})\")\n",
        "   return \"\\n\".join(lines)\n",
        "\n",
        "def __repr__(self) -> str:\n",
        "  return f\"Anggota(nama={self.nama!r}, nim={self.nim!r}, daftar_pinjam={len(self.daftar_pinjam)} buku)\"\n",
        "\n",
        "# =====================\n",
        "# Demo skenario utama\n",
        "# =====================\n",
        "if __name__ == \"__main__\":\n",
        "    # 1) Membuat object Buku (minimal 3)\n",
        "    buku_algoritma = buku(\"Algoritma\", \"Penulis A\", 2020)\n",
        "    buku_basisdata = buku(\"Basis Data\", \"Penulis X\", 2021)\n",
        "    buku_pyhton = buku(\"Pemrograman Phyton\", \"Penulis Y\", 2022)\n",
        "\n",
        "    # 2) Membuat object Buku Anggota (minimal 2)\n",
        "    andi = Anggota(\"Andi\", \"A11.2025.0001\")\n",
        "    budi = Anggota(\"Budi\", \"A11.2025.0002\")\n",
        "\n",
        "    # 3) Simulasi skenario\n",
        "    print(andi.pinjam_buku(buku_algoritma)) #Andi meminjam Algoritma\n",
        "    print(budi.pinjam_buku(buku_basisdata)) # Budi meminjam Basis Data\n",
        "    print(andi.kembalikan_buku(buku_algoritma)) #Andi mengembalikan Algoritma\n",
        "\n",
        "    # 4) Tampilkan daftar pinjaman masing-masing anggota\n",
        "    print(\"\\nDaftar Pinjaman Andi:\")\n",
        "    print(andi.tampilkan_pinjam())\n",
        "\n",
        "    print(\"\\nDaftar Pinjaman Budi:\")\n",
        "    print(budi.tampilkan_pinjam())\n",
        "\n",
        "    # 5) Contoh Tambahan (opsional, untuk uki validasi)\n",
        "    # - Coba pinjam buku yang sudah dipinjam orang lain\n",
        "    print(andi.pinjam_buku(buku_basisdata)) # Harusnya tidak tersedia\n",
        "\n",
        "    # - Tampilkan info buku\n",
        "    print(\"\\nInfo Buku:\")\n",
        "    for b in [buku_algoritma, buku_basisdata, buku_python]:\n",
        "     print(b.tampilkan_info())\n"
      ],
      "metadata": {
        "colab": {
          "base_uri": "https://localhost:8080/",
          "height": 245
        },
        "id": "oEdKNUeCoH4x",
        "outputId": "00317adf-4c59-4d67-fe42-00d9317833cc"
      },
      "execution_count": null,
      "outputs": [
        {
          "output_type": "error",
          "ename": "AttributeError",
          "evalue": "'Anggota' object has no attribute 'pinjam_buku'",
          "traceback": [
            "\u001b[0;31m---------------------------------------------------------------------------\u001b[0m",
            "\u001b[0;31mAttributeError\u001b[0m                            Traceback (most recent call last)",
            "\u001b[0;32m/tmp/ipython-input-2778479714.py\u001b[0m in \u001b[0;36m<cell line: 0>\u001b[0;34m()\u001b[0m\n\u001b[1;32m     80\u001b[0m \u001b[0;34m\u001b[0m\u001b[0m\n\u001b[1;32m     81\u001b[0m     \u001b[0;31m# 3) Simulasi skenario\u001b[0m\u001b[0;34m\u001b[0m\u001b[0;34m\u001b[0m\u001b[0m\n\u001b[0;32m---> 82\u001b[0;31m     \u001b[0mprint\u001b[0m\u001b[0;34m(\u001b[0m\u001b[0mandi\u001b[0m\u001b[0;34m.\u001b[0m\u001b[0mpinjam_buku\u001b[0m\u001b[0;34m(\u001b[0m\u001b[0mbuku_algoritma\u001b[0m\u001b[0;34m)\u001b[0m\u001b[0;34m)\u001b[0m \u001b[0;31m#Andi meminjam Algoritma\u001b[0m\u001b[0;34m\u001b[0m\u001b[0;34m\u001b[0m\u001b[0m\n\u001b[0m\u001b[1;32m     83\u001b[0m     \u001b[0mprint\u001b[0m\u001b[0;34m(\u001b[0m\u001b[0mbudi\u001b[0m\u001b[0;34m.\u001b[0m\u001b[0mpinjam_buku\u001b[0m\u001b[0;34m(\u001b[0m\u001b[0mbuku_basisdata\u001b[0m\u001b[0;34m)\u001b[0m\u001b[0;34m)\u001b[0m \u001b[0;31m# Budi meminjam Basis Data\u001b[0m\u001b[0;34m\u001b[0m\u001b[0;34m\u001b[0m\u001b[0m\n\u001b[1;32m     84\u001b[0m     \u001b[0mprint\u001b[0m\u001b[0;34m(\u001b[0m\u001b[0mandi\u001b[0m\u001b[0;34m.\u001b[0m\u001b[0mkembalikan_buku\u001b[0m\u001b[0;34m(\u001b[0m\u001b[0mbuku_algoritma\u001b[0m\u001b[0;34m)\u001b[0m\u001b[0;34m)\u001b[0m \u001b[0;31m#Andi mengembalikan Algoritma\u001b[0m\u001b[0;34m\u001b[0m\u001b[0;34m\u001b[0m\u001b[0m\n",
            "\u001b[0;31mAttributeError\u001b[0m: 'Anggota' object has no attribute 'pinjam_buku'"
          ]
        }
      ]
    },
    {
      "cell_type": "code",
      "source": [],
      "metadata": {
        "id": "YdWI3jlVnYVk"
      },
      "execution_count": null,
      "outputs": []
    },
    {
      "cell_type": "markdown",
      "source": [],
      "metadata": {
        "id": "FGiIhcYFcSJM"
      }
    }
  ]
}